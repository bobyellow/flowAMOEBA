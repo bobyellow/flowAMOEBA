{
  "cells": [
    {
      "cell_type": "code",
      "source": [
        "# 1) Clone your AMOEBA repo so that `core/` is present\n",
        "!git clone https://github.com/bobyellow/flowAMOEBA.git\n",
        "%cd flowAMOEBA\n",
        "\n",
        "# 2) Make sure Python sees it\n",
        "import sys, os\n",
        "sys.path.append(os.getcwd())"
      ],
      "metadata": {
        "id": "FzC4XTU-9D5y",
        "outputId": "c028b3df-49ed-4c7d-82c3-bdefdcd0e8a5",
        "colab": {
          "base_uri": "https://localhost:8080/"
        }
      },
      "id": "FzC4XTU-9D5y",
      "execution_count": 2,
      "outputs": [
        {
          "output_type": "stream",
          "name": "stdout",
          "text": [
            "Cloning into 'flowAMOEBA'...\n",
            "remote: Enumerating objects: 48, done.\u001b[K\n",
            "remote: Counting objects: 100% (48/48), done.\u001b[K\n",
            "remote: Compressing objects: 100% (47/47), done.\u001b[K\n",
            "remote: Total 48 (delta 10), reused 0 (delta 0), pack-reused 0 (from 0)\u001b[K\n",
            "Receiving objects: 100% (48/48), 132.71 KiB | 3.90 MiB/s, done.\n",
            "Resolving deltas: 100% (10/10), done.\n",
            "/content/flowAMOEBA\n"
          ]
        }
      ]
    },
    {
      "cell_type": "code",
      "execution_count": 3,
      "id": "b12396b8",
      "metadata": {
        "id": "b12396b8"
      },
      "outputs": [],
      "source": [
        "import os\n",
        "import pandas as pd\n",
        "from core.flowAMOEBA import execFlowAMOEBA\n",
        "import core.shapefile as shp"
      ]
    },
    {
      "cell_type": "code",
      "execution_count": 4,
      "id": "1472d2a1",
      "metadata": {
        "id": "1472d2a1"
      },
      "outputs": [],
      "source": [
        "# --- User parameters ---\n",
        "#AREAS1_SHP = \"input/Hex37_O.shp\"\n",
        "#AREAS2_SHP = \"input/Hex37_D.shp\"\n",
        "#FLOW_FILE   = \"input/Flow37xLL.txt\"\n",
        "FLOW_FILE   = \"input/Flow10by10.txt\"\n",
        "NEI_LVL    = 12\n",
        "SIGNIF     = 0.01\n",
        "MC_REPS    = 500\n",
        "HEADTAIL   = 0.1"
      ]
    },
    {
      "cell_type": "code",
      "execution_count": 5,
      "id": "e8b56051",
      "metadata": {
        "id": "e8b56051"
      },
      "outputs": [],
      "source": [
        "# 1) read spatial polygons\n",
        "#sf1 = shp.Reader(\"input/Hex37_O.shp\")\n",
        "sf1 = shp.Reader(\"input/Ogrid10by10.shp\")\n",
        "shapes1 = sf1.shapes()\n",
        "AREAS1  = [[shape.points] for shape in shapes1]"
      ]
    },
    {
      "cell_type": "code",
      "execution_count": 6,
      "id": "e07b4d54",
      "metadata": {
        "id": "e07b4d54"
      },
      "outputs": [],
      "source": [
        "#sf2 = shp.Reader(\"input/Hex37_D.shp\")\n",
        "sf2 = shp.Reader(\"input/Dgrid10by10.shp\")\n",
        "shapes2 = sf2.shapes()\n",
        "AREAS2  = [[shape.points] for shape in shapes2]"
      ]
    },
    {
      "cell_type": "code",
      "execution_count": 6,
      "id": "5cdf1945",
      "metadata": {
        "id": "5cdf1945"
      },
      "outputs": [],
      "source": []
    },
    {
      "cell_type": "code",
      "execution_count": 7,
      "id": "2164bc05",
      "metadata": {
        "lines_to_next_cell": 2,
        "id": "2164bc05"
      },
      "outputs": [],
      "source": [
        "# 2) read flow file: columns O,D,Value\n",
        "df = pd.read_csv(FLOW_FILE, sep=r\"\\s+\")\n",
        "FlowValue = dict(\n",
        "    zip(\n",
        "        zip(df[\"O\"].astype(int), df[\"D\"].astype(int)),\n",
        "        df[\"Flow\"].astype(float),\n",
        "    )\n",
        ")"
      ]
    },
    {
      "cell_type": "code",
      "execution_count": 8,
      "id": "baec5b26",
      "metadata": {
        "id": "baec5b26",
        "outputId": "d6229286-834b-421c-8e8e-2fdacd437c22",
        "colab": {
          "base_uri": "https://localhost:8080/"
        }
      },
      "outputs": [
        {
          "output_type": "stream",
          "name": "stdout",
          "text": [
            "Obtain O & D neighbors by contiguity\n",
            "flowAMOEBA completed in 81.41s\n",
            "Retained 2 hot clusters\n",
            "Retained 1 cold clusters\n"
          ]
        }
      ],
      "source": [
        "# 3) run flowAMOEBA\n",
        "result = execFlowAMOEBA(\n",
        "    AREAS1, AREAS2, FlowValue, NeiLvl=12,\n",
        "    significance=0.01,\n",
        "    headtail_pct=0.1,\n",
        "    mc_reps=500,\n",
        ")"
      ]
    },
    {
      "cell_type": "code",
      "execution_count": 9,
      "id": "9406d7bb",
      "metadata": {
        "id": "9406d7bb",
        "outputId": "60afc0d4-e8cf-480f-d23f-1965044b0d3f",
        "colab": {
          "base_uri": "https://localhost:8080/"
        }
      },
      "outputs": [
        {
          "output_type": "stream",
          "name": "stdout",
          "text": [
            "Results saved as result/flowAMOEBA_Flow10by10_NeiLvl12_Rook.csv\n"
          ]
        }
      ],
      "source": [
        "# 4) write output\n",
        "out_fn = os.path.join(\"result\",\"flowAMOEBA_Flow10by10_NeiLvl12_Rook.csv\")\n",
        "os.makedirs(os.path.dirname(out_fn), exist_ok=True)\n",
        "with open(out_fn, \"w\") as f:\n",
        "    f.write(result)\n",
        "print(\"Results saved as\", out_fn)"
      ]
    }
  ],
  "metadata": {
    "jupytext": {
      "cell_metadata_filter": "-all",
      "main_language": "python",
      "notebook_metadata_filter": "-all"
    },
    "colab": {
      "provenance": []
    },
    "language_info": {
      "name": "python"
    },
    "kernelspec": {
      "name": "python3",
      "display_name": "Python 3"
    }
  },
  "nbformat": 4,
  "nbformat_minor": 5
}