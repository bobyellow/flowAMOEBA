{
 "cells": [
  {
   "cell_type": "code",
   "execution_count": null,
   "id": "b12396b8",
   "metadata": {},
   "outputs": [],
   "source": [
    "import os\n",
    "import pandas as pd\n",
    "from core.flowAMOEBA import execFlowAMOEBA\n",
    "import core.shapefile as shp"
   ]
  },
  {
   "cell_type": "code",
   "execution_count": null,
   "id": "1472d2a1",
   "metadata": {},
   "outputs": [],
   "source": [
    "# --- User parameters ---\n",
    "#AREAS1_SHP = \"input/Hex37_O.shp\"\n",
    "#AREAS2_SHP = \"input/Hex37_D.shp\"\n",
    "#FLOW_FILE   = \"input/Flow37xLL.txt\"\n",
    "FLOW_FILE   = \"input/Flow10by10.txt\"\n",
    "NEI_LVL    = 12\n",
    "SIGNIF     = 0.01\n",
    "MC_REPS    = 500\n",
    "HEADTAIL   = 0.1"
   ]
  },
  {
   "cell_type": "code",
   "execution_count": null,
   "id": "e8b56051",
   "metadata": {},
   "outputs": [],
   "source": [
    "# 1) read spatial polygons\n",
    "#sf1 = shp.Reader(\"input/Hex37_O.shp\")\n",
    "sf1 = shp.Reader(\"input/Ogrid10by10.shp\")\n",
    "shapes1 = sf1.shapes()\n",
    "AREAS1  = [[shape.points] for shape in shapes1]"
   ]
  },
  {
   "cell_type": "code",
   "execution_count": null,
   "id": "e07b4d54",
   "metadata": {},
   "outputs": [],
   "source": [
    "#sf2 = shp.Reader(\"input/Hex37_D.shp\")\n",
    "sf2 = shp.Reader(\"input/Dgrid10by10.shp\")\n",
    "shapes2 = sf2.shapes()\n",
    "AREAS2  = [[shape.points] for shape in shapes2]"
   ]
  },
  {
   "cell_type": "code",
   "execution_count": null,
   "id": "5cdf1945",
   "metadata": {},
   "outputs": [],
   "source": []
  },
  {
   "cell_type": "code",
   "execution_count": null,
   "id": "2164bc05",
   "metadata": {
    "lines_to_next_cell": 2
   },
   "outputs": [],
   "source": [
    "# 2) read flow file: columns O,D,Value\n",
    "df = pd.read_csv(FLOW_FILE, sep=r\"\\s+\")\n",
    "FlowValue = dict(\n",
    "    zip(\n",
    "        zip(df[\"O\"].astype(int), df[\"D\"].astype(int)),\n",
    "        df[\"Flow\"].astype(float),\n",
    "    )\n",
    ")"
   ]
  },
  {
   "cell_type": "code",
   "execution_count": null,
   "id": "baec5b26",
   "metadata": {},
   "outputs": [],
   "source": [
    "# 3) run flowAMOEBA\n",
    "result = execFlowAMOEBA(\n",
    "    AREAS1, AREAS2, FlowValue, NeiLvl=12,\n",
    "    significance=0.01,\n",
    "    headtail_pct=0.1,\n",
    "    mc_reps=500,\n",
    ")"
   ]
  },
  {
   "cell_type": "code",
   "execution_count": null,
   "id": "9406d7bb",
   "metadata": {},
   "outputs": [],
   "source": [
    "# 4) write output\n",
    "out_fn = os.path.join(\"result\",\"flowAMOEBA_Flow10by10_NeiLvl12_Rook.csv\")\n",
    "os.makedirs(os.path.dirname(out_fn), exist_ok=True)\n",
    "with open(out_fn, \"w\") as f:\n",
    "    f.write(result)\n",
    "print(\"Results saved as\", out_fn)"
   ]
  }
 ],
 "metadata": {
  "jupytext": {
   "cell_metadata_filter": "-all",
   "main_language": "python",
   "notebook_metadata_filter": "-all"
  }
 },
 "nbformat": 4,
 "nbformat_minor": 5
}
